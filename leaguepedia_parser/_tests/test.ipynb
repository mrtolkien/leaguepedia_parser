{
 "metadata": {
  "language_info": {
   "codemirror_mode": {
    "name": "ipython",
    "version": 3
   },
   "file_extension": ".py",
   "mimetype": "text/x-python",
   "name": "python",
   "nbconvert_exporter": "python",
   "pygments_lexer": "ipython3",
   "version": 3
  },
  "orig_nbformat": 2,
  "kernelspec": {
   "name": "python_defaultSpec_1595286133573",
   "display_name": "Python 3.7.7 64-bit ('base': conda)"
  }
 },
 "nbformat": 4,
 "nbformat_minor": 2,
 "cells": [
  {
   "cell_type": "code",
   "execution_count": 48,
   "metadata": {
    "tags": []
   },
   "outputs": [
    {
     "output_type": "stream",
     "name": "stdout",
     "text": "['', 'Africa', 'Asia', 'Brazil', 'China', 'CIS', 'Europe', 'International', 'Japan', 'Korea', 'LAN', 'LAS', 'Latin America', 'LMS', 'MENA', 'North America', 'Oceania', 'PCS', 'SEA', 'Turkey', 'Unknown', 'Vietnam', 'Wildcard']\n"
    }
   ],
   "source": [
    "import leaguepedia_parser as lpp\n",
    "\n",
    "test_region = lpp.get_regions()\n",
    "print(test_region)"
   ]
  },
  {
   "cell_type": "code",
   "execution_count": 66,
   "metadata": {
    "tags": []
   },
   "outputs": [
    {
     "output_type": "execute_result",
     "data": {
      "text/plain": "{'name': 'LEC 2019 Summer Playoffs',\n 'start': '2019-08-23',\n 'end': '2019-09-08',\n 'region': 'Europe',\n 'league': 'LoL European Championship',\n 'leagueShort': 'LEC',\n 'rulebook': 'https://s3-eu-west-1.amazonaws.com/cdn.eu.lolesports.com/LEC+Rulebook+2019+(Updated+29.05.2019).pdf',\n 'tournamentLevel': 'Primary',\n 'isQualifier': True,\n 'isPlayoffs': True,\n 'isOfficial': True,\n 'overviewPage': 'LEC/2019 Season/Summer Playoffs'}"
     },
     "metadata": {},
     "execution_count": 66
    }
   ],
   "source": [
    "test_tournament = lpp.get_tournaments('Europe',2019)[3]\n",
    "test_tournament"
   ]
  },
  {
   "cell_type": "code",
   "execution_count": 72,
   "metadata": {},
   "outputs": [
    {
     "output_type": "execute_result",
     "data": {
      "text/plain": "{'sources': {'leaguepedia': {'scoreboardIdWiki': 'LEC/2019 Season/Summer Playoffs_Round 1_1_1',\n   'uniqueGame': 'LEC/2019 Season/Summer Playoffs/Scoreboards_1_1',\n   'match_history_url': 'http://matchhistory.na.leagueoflegends.com/en/#match-details/ESPORTSTMNT06/1040496?gameHash=985ce12baaa1bae4'},\n  'riotLolApi': {'gameId': 1040496,\n   'platformId': 'ESPORTSTMNT06',\n   'gameHash': '985ce12baaa1bae4'}},\n 'tournament': 'LEC 2019 Summer Playoffs',\n 'start': '2019-08-23T14:23:00+00:00',\n 'gameInSeries': 1,\n 'patch': '9.16',\n 'duration': 1519,\n 'vod': 'https://youtu.be/lheVyBOlbuM?t=66',\n 'winner': 'BLUE',\n 'teams': {'BLUE': {'name': 'Rogue (European Team)',\n   'players': [{'uniqueIdentifiers': {'leaguepedia': {'name': 'Finn'}},\n     'championId': 266,\n     'championName': 'Aatrox'},\n    {'uniqueIdentifiers': {'leaguepedia': {'name': 'Inspired'}},\n     'championId': 60,\n     'championName': 'Elise'},\n    {'uniqueIdentifiers': {'leaguepedia': {'name': 'Larssen'}},\n     'championId': 42,\n     'championName': 'Corki'},\n    {'uniqueIdentifiers': {'leaguepedia': {'name': 'Woolite'}},\n     'championId': 86,\n     'championName': 'Garen'},\n    {'uniqueIdentifiers': {'leaguepedia': {'name': 'Vander'}},\n     'championId': 350,\n     'championName': 'Yuumi'}],\n   'bansNames': ['Gangplank', 'Xayah', 'Shen', 'Braum', 'Gragas'],\n   'bans': [41, 498, 98, 201, 79],\n   'endOfGameStats': {'towerKills': 10,\n    'dragonKills': 3,\n    'riftHeraldKills': 1,\n    'baronKills': 1}},\n  'RED': {'name': 'Splyce',\n   'players': [{'uniqueIdentifiers': {'leaguepedia': {'name': 'Vizicsacsi'}},\n     'championId': 58,\n     'championName': 'Renekton'},\n    {'uniqueIdentifiers': {'leaguepedia': {'name': 'Xerxe'}},\n     'championId': 517,\n     'championName': 'Sylas'},\n    {'uniqueIdentifiers': {'leaguepedia': {'name': 'Humanoid'}},\n     'championId': 84,\n     'championName': 'Akali'},\n    {'uniqueIdentifiers': {'leaguepedia': {'name': 'Kobbe'}},\n     'championId': 236,\n     'championName': 'Lucian'},\n    {'uniqueIdentifiers': {'leaguepedia': {'name': 'Norskeren'}},\n     'championId': 106,\n     'championName': 'Volibear'}],\n   'bansNames': ['Olaf', 'Qiyana', 'Sejuani', 'Kled', 'Irelia'],\n   'bans': [2, 246, 113, 240, 39],\n   'endOfGameStats': {'towerKills': 1,\n    'dragonKills': 0,\n    'riftHeraldKills': 0,\n    'baronKills': 0}}}}"
     },
     "metadata": {},
     "execution_count": 72
    }
   ],
   "source": [
    "test_game = lpp.get_games(test_tournament['name'])[0] #tested after changing \"tournament_overview_page\" to \"tournamen_name\" and still works fine\n",
    "#I didn't change functionality at all, just the variable name\n",
    "test_game"
   ]
  },
  {
   "cell_type": "code",
   "execution_count": 71,
   "metadata": {},
   "outputs": [
    {
     "output_type": "execute_result",
     "data": {
      "text/plain": "{'sources': {'leaguepedia': {'scoreboardIdWiki': 'LEC/2019 Season/Summer Playoffs_Round 1_1_1',\n   'uniqueGame': 'LEC/2019 Season/Summer Playoffs/Scoreboards_1_1',\n   'match_history_url': 'http://matchhistory.na.leagueoflegends.com/en/#match-details/ESPORTSTMNT06/1040496?gameHash=985ce12baaa1bae4'},\n  'riotLolApi': {'gameId': 1040496,\n   'platformId': 'ESPORTSTMNT06',\n   'gameHash': '985ce12baaa1bae4'}},\n 'tournament': 'LEC 2019 Summer Playoffs',\n 'start': '2019-08-23T14:23:00+00:00',\n 'gameInSeries': 1,\n 'patch': '9.16',\n 'duration': 1519,\n 'vod': 'https://youtu.be/lheVyBOlbuM?t=66',\n 'winner': 'BLUE',\n 'teams': {'BLUE': {'name': 'Rogue (European Team)',\n   'players': [{'uniqueIdentifiers': {'leaguepedia': {'name': 'Finn',\n       'irlName': 'Finn Wiestål',\n       'country': 'Sweden',\n       'birthday': '1999-06-03'}},\n     'championId': 266,\n     'championName': 'Aatrox',\n     'role': 'TOP'},\n    {'uniqueIdentifiers': {'leaguepedia': {'name': 'Inspired',\n       'irlName': 'Kacper Słoma',\n       'country': 'Poland',\n       'birthday': '2002-01-24'}},\n     'championId': 60,\n     'championName': 'Elise',\n     'role': 'JGL'},\n    {'uniqueIdentifiers': {'leaguepedia': {'name': 'Larssen',\n       'irlName': 'Emil Larsson',\n       'country': 'Sweden',\n       'birthday': '2000-03-30'}},\n     'championId': 42,\n     'championName': 'Corki',\n     'role': 'MID'},\n    {'uniqueIdentifiers': {'leaguepedia': {'name': 'Woolite',\n       'irlName': 'Paweł Pruski',\n       'country': 'Poland',\n       'birthday': ''}},\n     'championId': 86,\n     'championName': 'Garen',\n     'role': 'BOT'},\n    {'uniqueIdentifiers': {'leaguepedia': {'name': 'Vander',\n       'irlName': 'Oskar Bogdan',\n       'country': 'Poland',\n       'birthday': '1994-04-18'}},\n     'championId': 350,\n     'championName': 'Yuumi',\n     'role': 'SUP'}],\n   'bansNames': ['Gangplank', 'Xayah', 'Shen', 'Braum', 'Gragas'],\n   'bans': [41, 498, 98, 201, 79],\n   'endOfGameStats': {'towerKills': 10,\n    'dragonKills': 3,\n    'riftHeraldKills': 1,\n    'baronKills': 1}},\n  'RED': {'name': 'Splyce',\n   'players': [{'uniqueIdentifiers': {'leaguepedia': {'name': 'Vizicsacsi',\n       'irlName': 'Kiss Tamás',\n       'country': 'Hungary',\n       'birthday': '1993-06-14'}},\n     'championId': 58,\n     'championName': 'Renekton',\n     'role': 'TOP'},\n    {'uniqueIdentifiers': {'leaguepedia': {'name': 'Xerxe',\n       'irlName': 'Andrei Dragomir',\n       'country': 'Romania',\n       'birthday': '1999-11-05'}},\n     'championId': 517,\n     'championName': 'Sylas',\n     'role': 'JGL'},\n    {'uniqueIdentifiers': {'leaguepedia': {'name': 'Humanoid',\n       'irlName': 'Marek Brázda',\n       'country': 'Czech Republic',\n       'birthday': '2000-03-14'}},\n     'championId': 84,\n     'championName': 'Akali',\n     'role': 'MID'},\n    {'uniqueIdentifiers': {'leaguepedia': {'name': 'Kobbe',\n       'irlName': 'Kasper Kobberup',\n       'country': 'Denmark',\n       'birthday': '1996-09-21'}},\n     'championId': 236,\n     'championName': 'Lucian',\n     'role': 'BOT'},\n    {'uniqueIdentifiers': {'leaguepedia': {'name': 'Norskeren',\n       'irlName': 'Tore Hoel Eilertsen',\n       'country': 'Norway',\n       'birthday': '1999-12-27'}},\n     'championId': 106,\n     'championName': 'Volibear',\n     'role': 'SUP'}],\n   'bansNames': ['Olaf', 'Qiyana', 'Sejuani', 'Kled', 'Irelia'],\n   'bans': [2, 246, 113, 240, 39],\n   'endOfGameStats': {'towerKills': 1,\n    'dragonKills': 0,\n    'riftHeraldKills': 0,\n    'baronKills': 0}}},\n 'picksBans': [{'championName': 'Gangplank',\n   'championId': 41,\n   'isBan': True,\n   'team': 'BLUE'},\n  {'championName': 'Olaf', 'championId': 2, 'isBan': True, 'team': 'RED'},\n  {'championName': 'Xayah', 'championId': 498, 'isBan': True, 'team': 'BLUE'},\n  {'championName': 'Qiyana', 'championId': 246, 'isBan': True, 'team': 'RED'},\n  {'championName': 'Shen', 'championId': 98, 'isBan': True, 'team': 'BLUE'},\n  {'championName': 'Sejuani', 'championId': 113, 'isBan': True, 'team': 'RED'},\n  {'championName': 'Yuumi', 'championId': 350, 'isBan': False, 'team': 'BLUE'},\n  {'championName': 'Akali', 'championId': 84, 'isBan': False, 'team': 'RED'},\n  {'championName': 'Lucian', 'championId': 236, 'isBan': False, 'team': 'RED'},\n  {'championName': 'Garen', 'championId': 86, 'isBan': False, 'team': 'BLUE'},\n  {'championName': 'Corki', 'championId': 42, 'isBan': False, 'team': 'BLUE'},\n  {'championName': 'Renekton',\n   'championId': 58,\n   'isBan': False,\n   'team': 'RED'},\n  {'championName': 'Kled', 'championId': 240, 'isBan': True, 'team': 'RED'},\n  {'championName': 'Braum', 'championId': 201, 'isBan': True, 'team': 'BLUE'},\n  {'championName': 'Irelia', 'championId': 39, 'isBan': True, 'team': 'RED'},\n  {'championName': 'Gragas', 'championId': 79, 'isBan': True, 'team': 'BLUE'},\n  {'championName': 'Sylas', 'championId': 517, 'isBan': False, 'team': 'RED'},\n  {'championName': 'Aatrox',\n   'championId': 266,\n   'isBan': False,\n   'team': 'BLUE'},\n  {'championName': 'Elise', 'championId': 60, 'isBan': False, 'team': 'BLUE'},\n  {'championName': 'Volibear',\n   'championId': 106,\n   'isBan': False,\n   'team': 'RED'}]}"
     },
     "metadata": {},
     "execution_count": 71
    }
   ],
   "source": [
    "test_get_details = lpp.get_game_details(test_game)\n",
    "test_get_details"
   ]
  },
  {
   "cell_type": "code",
   "execution_count": null,
   "metadata": {},
   "outputs": [],
   "source": []
  }
 ]
}